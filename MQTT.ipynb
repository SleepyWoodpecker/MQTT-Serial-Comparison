{
 "cells": [
  {
   "cell_type": "code",
   "execution_count": 17,
   "metadata": {},
   "outputs": [],
   "source": [
    "import paho.mqtt.client as mqtt\n",
    "import time\n",
    "\n",
    "\n",
    "NUMBER_OF_READINGS_TO_TAKE = 100"
   ]
  },
  {
   "cell_type": "code",
   "execution_count": 26,
   "metadata": {},
   "outputs": [],
   "source": [
    "state = {\n",
    "    \"received\": 0,\n",
    "    \"start\": time.time_ns(),\n",
    "    \"end\": time.time_ns()\n",
    "}\n",
    "\n",
    "# The callback for when the client receives a CONNACK response from the server.\n",
    "def on_connect(client, userdata, flags, reason_code, properties):\n",
    "    print(f\"Connected with result code {reason_code}\")\n",
    "    # Subscribing in on_connect() means that if we lose the connection and\n",
    "    # reconnect then subscriptions will be renewed.\n",
    "    client.subscribe(\"hello\")\n",
    "\n",
    "# The callback for when a PUBLISH message is received from the server.\n",
    "def on_message(client, userdata, msg):\n",
    "    print(msg.topic+\" \"+str(msg.payload))\n",
    "    state[\"received\"] += 1\n",
    "\n",
    "    if state[\"received\"]  == NUMBER_OF_READINGS_TO_TAKE:\n",
    "        client.loop_stop()\n",
    "        client.disconnect()\n",
    "        state[\"end\"] = time.time_ns()\n",
    "\n",
    "def print_results():\n",
    "    time_taken = (state[\"end\"] - state[\"start\"]) / 1_000_000_000\n",
    "        \n",
    "    print(\n",
    "        f\"Time taken to receive {NUMBER_OF_READINGS_TO_TAKE} messages is:\",\n",
    "        time_taken, \"seconds\"\n",
    "    )\n",
    "    print(\"time per message: \", time_taken / NUMBER_OF_READINGS_TO_TAKE)\n",
    "    print(\"messages per second: \", NUMBER_OF_READINGS_TO_TAKE / time_taken)\n",
    "\n",
    "def init_state():\n",
    "    state[\"received\"] = 0\n",
    "    state[\"start\"] = time.time_ns()\n",
    "    state[\"end\"] = time.time_ns()"
   ]
  },
  {
   "cell_type": "code",
   "execution_count": 39,
   "metadata": {},
   "outputs": [
    {
     "data": {
      "text/plain": [
       "<MQTTErrorCode.MQTT_ERR_SUCCESS: 0>"
      ]
     },
     "execution_count": 39,
     "metadata": {},
     "output_type": "execute_result"
    }
   ],
   "source": [
    "mqttc = mqtt.Client(mqtt.CallbackAPIVersion.VERSION2, userdata=state)\n",
    "mqttc.on_connect = on_connect\n",
    "mqttc.on_message = on_message\n",
    "\n",
    "mqttc.connect(\"172.20.10.10\", 1883, 60)"
   ]
  },
  {
   "cell_type": "markdown",
   "metadata": {},
   "source": [
    "### 200ms delay\n",
    "\n",
    "compile this version using `./compile.sh mqtt 200`"
   ]
  },
  {
   "cell_type": "code",
   "execution_count": null,
   "metadata": {},
   "outputs": [],
   "source": [
    "init_state() # call this to reset counter and start timer\n",
    "mqttc.loop_forever()"
   ]
  },
  {
   "cell_type": "markdown",
   "metadata": {},
   "source": [
    "Output:\n",
    "```\n",
    "hello b'Asensorvals pt0=482.60169,pt1=586.3529,pt2=-4.77855,pt3=-61.87105,pt4=1.03304,pt5=339.3728,pt6=34.07698,pt7=98.41807,pt8=3557.51375,pt9=13.36228,lc1=165.83Z'\n",
    "hello b'Asensorvals pt0=482.60169,pt1=586.3529,pt2=-4.77855,pt3=-61.87105,pt4=1.03304,pt5=339.3728,pt6=34.07698,pt7=98.41807,pt8=3557.51375,pt9=13.36228,lc1=165.83Z'\n",
    "hello b'Asensorvals pt0=482.60169,pt1=586.3529,pt2=-4.77855,pt3=-61.87105,pt4=1.03304,pt5=339.3728,pt6=34.07698,pt7=98.41807,pt8=3557.51375,pt9=13.36228,lc1=165.83Z'\n",
    "```"
   ]
  },
  {
   "cell_type": "code",
   "execution_count": 23,
   "metadata": {},
   "outputs": [
    {
     "name": "stdout",
     "output_type": "stream",
     "text": [
      "Time taken to receive 100 messages is: 19.921618 seconds\n",
      "time per message:  0.19921618\n",
      "messages per second:  5.01967259888228\n"
     ]
    }
   ],
   "source": [
    "print_results()"
   ]
  },
  {
   "cell_type": "markdown",
   "metadata": {},
   "source": [
    "### 100ms delay\n",
    "\n",
    "compile this version using `./compile.sh mqtt 100`"
   ]
  },
  {
   "cell_type": "code",
   "execution_count": null,
   "metadata": {},
   "outputs": [],
   "source": [
    "init_state() # call this to reset counter and start timer\n",
    "mqttc.loop_forever()"
   ]
  },
  {
   "cell_type": "markdown",
   "metadata": {},
   "source": [
    "Output:\n",
    "```\n",
    "hello b'Asensorvals pt0=482.60169,pt1=586.3529,pt2=-4.77855,pt3=-61.87105,pt4=1.03304,pt5=339.3728,pt6=34.07698,pt7=98.41807,pt8=3557.51375,pt9=13.36228,lc1=165.83Z'\n",
    "hello b'Asensorvals pt0=482.60169,pt1=586.3529,pt2=-4.77855,pt3=-61.87105,pt4=1.03304,pt5=339.3728,pt6=34.07698,pt7=98.41807,pt8=3557.51375,pt9=13.36228,lc1=165.83Z'\n",
    "hello b'Asensorvals pt0=482.60169,pt1=586.3529,pt2=-4.77855,pt3=-61.87105,pt4=1.03304,pt5=339.3728,pt6=34.07698,pt7=98.41807,pt8=3557.51375,pt9=13.36228,lc1=165.83Z'\n",
    "```"
   ]
  },
  {
   "cell_type": "code",
   "execution_count": 29,
   "metadata": {},
   "outputs": [
    {
     "name": "stdout",
     "output_type": "stream",
     "text": [
      "Time taken to receive 100 messages is: 10.023519 seconds\n",
      "time per message:  0.10023519\n",
      "messages per second:  9.976536184547562\n"
     ]
    }
   ],
   "source": [
    "print_results()"
   ]
  },
  {
   "cell_type": "markdown",
   "metadata": {},
   "source": [
    "### 50ms delay\n",
    "\n",
    "compile this version using `./compile.sh mqtt 50`"
   ]
  },
  {
   "cell_type": "code",
   "execution_count": null,
   "metadata": {},
   "outputs": [],
   "source": [
    "init_state() # call this to reset counter and start timer\n",
    "mqttc.loop_forever()"
   ]
  },
  {
   "cell_type": "markdown",
   "metadata": {},
   "source": [
    "Output:\n",
    "```\n",
    "hello b'Asensorvals pt0=482.60169,pt1=586.3529,pt2=-4.77855,pt3=-61.87105,pt4=1.03304,pt5=339.3728,pt6=34.07698,pt7=98.41807,pt8=3557.51375,pt9=13.36228,lc1=165.83Z'\n",
    "hello b'Asensorvals pt0=482.60169,pt1=586.3529,pt2=-4.77855,pt3=-61.87105,pt4=1.03304,pt5=339.3728,pt6=34.07698,pt7=98.41807,pt8=3557.51375,pt9=13.36228,lc1=165.83Z'\n",
    "hello b'Asensorvals pt0=482.60169,pt1=586.3529,pt2=-4.77855,pt3=-61.87105,pt4=1.03304,pt5=339.3728,pt6=34.07698,pt7=98.41807,pt8=3557.51375,pt9=13.36228,lc1=165.83Z'\n",
    "```"
   ]
  },
  {
   "cell_type": "code",
   "execution_count": 32,
   "metadata": {},
   "outputs": [
    {
     "name": "stdout",
     "output_type": "stream",
     "text": [
      "Time taken to receive 100 messages is: 5.024434 seconds\n",
      "time per message:  0.050244340000000005\n",
      "messages per second:  19.902739293619938\n"
     ]
    }
   ],
   "source": [
    "print_results()"
   ]
  },
  {
   "cell_type": "markdown",
   "metadata": {},
   "source": [
    "### 30ms delay\n",
    "\n",
    "compile this version using `./compile.sh mqtt 30`"
   ]
  },
  {
   "cell_type": "code",
   "execution_count": null,
   "metadata": {},
   "outputs": [],
   "source": [
    "init_state() # call this to reset counter and start timer\n",
    "mqttc.loop_forever()"
   ]
  },
  {
   "cell_type": "markdown",
   "metadata": {},
   "source": [
    "Output:\n",
    "```\n",
    "hello b'Asensorvals pt0=482.60169,pt1=586.3529,pt2=-4.77855,pt3=-61.87105,pt4=1.03304,pt5=339.3728,pt6=34.07698,pt7=98.41807,pt8=3557.51375,pt9=13.36228,lc1=165.83Z'\n",
    "hello b'Asensorvals pt0=482.60169,pt1=586.3529,pt2=-4.77855,pt3=-61.87105,pt4=1.03304,pt5=339.3728,pt6=34.07698,pt7=98.41807,pt8=3557.51375,pt9=13.36228,lc1=165.83Z'\n",
    "hello b'Asensorvals pt0=482.60169,pt1=586.3529,pt2=-4.77855,pt3=-61.87105,pt4=1.03304,pt5=339.3728,pt6=34.07698,pt7=98.41807,pt8=3557.51375,pt9=13.36228,lc1=165.83Z'\n",
    "```"
   ]
  },
  {
   "cell_type": "code",
   "execution_count": 35,
   "metadata": {},
   "outputs": [
    {
     "name": "stdout",
     "output_type": "stream",
     "text": [
      "Time taken to receive 100 messages is: 3.109822 seconds\n",
      "time per message:  0.03109822\n",
      "messages per second:  32.156181286260114\n"
     ]
    }
   ],
   "source": [
    "print_results()"
   ]
  },
  {
   "cell_type": "markdown",
   "metadata": {},
   "source": [
    "### 10ms delay\n",
    "\n",
    "compile this version using `./compile.sh mqtt 10`"
   ]
  },
  {
   "cell_type": "code",
   "execution_count": null,
   "metadata": {},
   "outputs": [],
   "source": [
    "init_state() # call this to reset counter and start timer\n",
    "mqttc.loop_forever()"
   ]
  },
  {
   "cell_type": "markdown",
   "metadata": {},
   "source": [
    "Output:\n",
    "```\n",
    "hello b'Asensorvals pt0=482.60169,pt1=586.3529,pt2=-4.77855,pt3=-61.87105,pt4=1.03304,pt5=339.3728,pt6=34.07698,pt7=98.41807,pt8=3557.51375,pt9=13.36228,lc1=165.83Z'\n",
    "hello b'Asensorvals pt0=482.60169,pt1=586.3529,pt2=-4.77855,pt3=-61.87105,pt4=1.03304,pt5=339.3728,pt6=34.07698,pt7=98.41807,pt8=3557.51375,pt9=13.36228,lc1=165.83Z'\n",
    "hello b'Asensorvals pt0=482.60169,pt1=586.3529,pt2=-4.77855,pt3=-61.87105,pt4=1.03304,pt5=339.3728,pt6=34.07698,pt7=98.41807,pt8=3557.51375,pt9=13.36228,lc1=165.83Z'\n",
    "```"
   ]
  },
  {
   "cell_type": "code",
   "execution_count": 41,
   "metadata": {},
   "outputs": [
    {
     "name": "stdout",
     "output_type": "stream",
     "text": [
      "Time taken to receive 100 messages is: 1.087074 seconds\n",
      "time per message:  0.01087074\n",
      "messages per second:  91.9900577145622\n"
     ]
    }
   ],
   "source": [
    "print_results()"
   ]
  }
 ],
 "metadata": {
  "kernelspec": {
   "display_name": "rocket",
   "language": "python",
   "name": "python3"
  },
  "language_info": {
   "codemirror_mode": {
    "name": "ipython",
    "version": 3
   },
   "file_extension": ".py",
   "mimetype": "text/x-python",
   "name": "python",
   "nbconvert_exporter": "python",
   "pygments_lexer": "ipython3",
   "version": "3.10.16"
  }
 },
 "nbformat": 4,
 "nbformat_minor": 2
}
