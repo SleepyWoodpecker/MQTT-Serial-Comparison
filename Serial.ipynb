{
 "cells": [
  {
   "cell_type": "markdown",
   "metadata": {},
   "source": [
    "# Setup of imports and testing functions"
   ]
  },
  {
   "cell_type": "code",
   "execution_count": 47,
   "metadata": {},
   "outputs": [],
   "source": [
    "from serial import Serial\n",
    "import time\n",
    "\n",
    "PORT = \"/dev/tty.usbserial-0001\"  # Might need to change this based on your device\n",
    "BAUDRATE = 115_200  # Might need to change this based on your device\n",
    "ser = Serial(PORT, BAUDRATE, timeout=0.2)\n",
    "NUMBER_OF_READINGS_TO_TAKE = 100"
   ]
  },
  {
   "cell_type": "code",
   "execution_count": 40,
   "metadata": {},
   "outputs": [],
   "source": [
    "# Read from Serial\n",
    "def read_from_serial(number_of_readings_to_take: int) -> int:\n",
    "    current_time = time.time_ns()\n",
    "    ser.reset_input_buffer()  # Flushes the receive buffer\n",
    "\n",
    "    # read once to clear the buffer of useless values\n",
    "    ser.read_until(b\"Z\\n\")\n",
    "\n",
    "    for _ in range(number_of_readings_to_take):\n",
    "        pt_data = ser.read_until(b\"\\n\").strip().decode()\n",
    "\n",
    "        print(pt_data)\n",
    "\n",
    "    new_time = time.time_ns()\n",
    "\n",
    "    time_taken = (new_time - current_time) / 1_000_000_000\n",
    "\n",
    "    return time_taken\n",
    "\n",
    "def print_results(number_of_readigs_to_take: int, time_taken: int) -> None:    \n",
    "    print(\n",
    "        f\"Time taken to receive {number_of_readigs_to_take} messages is:\",\n",
    "        time_taken, \"seconds\"\n",
    "    )\n",
    "    print(\"time per message: \", time_taken / number_of_readigs_to_take)\n",
    "    print(\"messages per second: \", number_of_readigs_to_take / time_taken)"
   ]
  },
  {
   "cell_type": "markdown",
   "metadata": {},
   "source": [
    "# Run tests with delays of:\n",
    "  - 200ms \n",
    "  - 100ms\n",
    "  - 50ms\n",
    "  - 30ms\n",
    "  - 10ms\n",
    "\n",
    "Arduino code can be found <a href=\"./sketches/serial_printing/serial_printing.ino\">here</a>"
   ]
  },
  {
   "cell_type": "markdown",
   "metadata": {},
   "source": [
    "### 200ms delay\n",
    "\n",
    "compile this version using `./compile.sh serial_printing 200`"
   ]
  },
  {
   "cell_type": "code",
   "execution_count": null,
   "metadata": {},
   "outputs": [],
   "source": [
    "time_taken_200 = read_from_serial(NUMBER_OF_READINGS_TO_TAKE)"
   ]
  },
  {
   "cell_type": "markdown",
   "metadata": {},
   "source": [
    "Ouput:\n",
    "```\n",
    "Asensorvals pt0=482.60169,pt1=586.3529,pt2=-4.77855,pt3=-61.87105,pt4=1.03304,pt5=339.3728,pt6=34.07698,pt7=98.41807,pt8=3557.51375,pt9=13.36228,lc1=165.83Z\n",
    "Asensorvals pt0=482.60169,pt1=586.3529,pt2=-4.77855,pt3=-61.87105,pt4=1.03304,pt5=339.3728,pt6=34.07698,pt7=98.41807,pt8=3557.51375,pt9=13.36228,lc1=165.83Z\n",
    "Asensorvals pt0=482.60169,pt1=586.3529,pt2=-4.77855,pt3=-61.87105,pt4=1.03304,pt5=339.3728,pt6=34.07698,pt7=98.41807,pt8=3557.51375,pt9=13.36228,lc1=165.83Z\n",
    "```"
   ]
  },
  {
   "cell_type": "code",
   "execution_count": 4,
   "metadata": {},
   "outputs": [
    {
     "name": "stdout",
     "output_type": "stream",
     "text": [
      "Time taken to receive 100 messages is: 20.156036 seconds\n",
      "time per message:  0.20156036\n",
      "messages per second:  4.961292984394352\n"
     ]
    }
   ],
   "source": [
    "print_results(NUMBER_OF_READINGS_TO_TAKE, time_taken_200)"
   ]
  },
  {
   "cell_type": "markdown",
   "metadata": {},
   "source": [
    "### 100ms delay\n",
    "\n",
    "compile this version using `./compile.sh serial_printing 100`"
   ]
  },
  {
   "cell_type": "code",
   "execution_count": null,
   "metadata": {},
   "outputs": [],
   "source": [
    "time_taken_100 = read_from_serial(NUMBER_OF_READINGS_TO_TAKE)"
   ]
  },
  {
   "cell_type": "markdown",
   "metadata": {},
   "source": [
    "Output:\n",
    "```\n",
    "Asensorvals pt0=482.60169,pt1=586.3529,pt2=-4.77855,pt3=-61.87105,pt4=1.03304,pt5=339.3728,pt6=34.07698,pt7=98.41807,pt8=3557.51375,pt9=13.36228,lc1=165.83Z\n",
    "Asensorvals pt0=482.60169,pt1=586.3529,pt2=-4.77855,pt3=-61.87105,pt4=1.03304,pt5=339.3728,pt6=34.07698,pt7=98.41807,pt8=3557.51375,pt9=13.36228,lc1=165.83Z\n",
    "Asensorvals pt0=482.60169,pt1=586.3529,pt2=-4.77855,pt3=-61.87105,pt4=1.03304,pt5=339.3728,pt6=34.07698,pt7=98.41807,pt8=3557.51375,pt9=13.36228,lc1=165.83Z\n",
    "```"
   ]
  },
  {
   "cell_type": "code",
   "execution_count": 9,
   "metadata": {},
   "outputs": [
    {
     "name": "stdout",
     "output_type": "stream",
     "text": [
      "Time taken to receive 100 messages is: 10.260749 seconds\n",
      "time per message:  0.10260749000000001\n",
      "messages per second:  9.745877225921811\n"
     ]
    }
   ],
   "source": [
    "print_results(NUMBER_OF_READINGS_TO_TAKE, time_taken_100)"
   ]
  },
  {
   "cell_type": "markdown",
   "metadata": {},
   "source": [
    "### 50ms delay\n",
    "\n",
    "compile this version using `./compile.sh serial_printing 50`"
   ]
  },
  {
   "cell_type": "code",
   "execution_count": null,
   "metadata": {},
   "outputs": [],
   "source": [
    "time_taken_50 = read_from_serial(NUMBER_OF_READINGS_TO_TAKE)"
   ]
  },
  {
   "cell_type": "markdown",
   "metadata": {},
   "source": [
    "Output:\n",
    "```\n",
    "Asensorvals pt0=482.60169,pt1=586.3529,pt2=-4.77855,pt3=-61.87105,pt4=1.03304,pt5=339.3728,pt6=34.07698,pt7=98.41807,pt8=3557.51375,pt9=13.36228,lc1=165.83Z\n",
    "Asensorvals pt0=482.60169,pt1=586.3529,pt2=-4.77855,pt3=-61.87105,pt4=1.03304,pt5=339.3728,pt6=34.07698,pt7=98.41807,pt8=3557.51375,pt9=13.36228,lc1=165.83Z\n",
    "Asensorvals pt0=482.60169,pt1=586.3529,pt2=-4.77855,pt3=-61.87105,pt4=1.03304,pt5=339.3728,pt6=34.07698,pt7=98.41807,pt8=3557.51375,pt9=13.36228,lc1=165.83Z\n",
    "```"
   ]
  },
  {
   "cell_type": "code",
   "execution_count": 12,
   "metadata": {},
   "outputs": [
    {
     "name": "stdout",
     "output_type": "stream",
     "text": [
      "Time taken to receive 100 messages is: 5.295982 seconds\n",
      "time per message:  0.052959820000000005\n",
      "messages per second:  18.882239403381657\n"
     ]
    }
   ],
   "source": [
    "print_results(NUMBER_OF_READINGS_TO_TAKE, time_taken_50)"
   ]
  },
  {
   "cell_type": "markdown",
   "metadata": {},
   "source": [
    "### 30ms delay\n",
    "\n",
    "compile this version using `./compile.sh serial_printing 30`"
   ]
  },
  {
   "cell_type": "code",
   "execution_count": null,
   "metadata": {},
   "outputs": [],
   "source": [
    "time_taken_30 = read_from_serial(NUMBER_OF_READINGS_TO_TAKE)"
   ]
  },
  {
   "cell_type": "markdown",
   "metadata": {},
   "source": [
    "Ouput:\n",
    "```\n",
    "Asensorvals pt0=482.60169,pt1=586.3529,pt2=-4.77855,pt3=-61.87105,pt4=1.03304,pt5=339.3728,pt6=34.07698,pt7=98.41807,pt8=3557.51375,pt9=13.36228,lc1=165.83Z\n",
    "Asensorvals pt0=482.60169,pt1=586.3529,pt2=-4.77855,pt3=-61.87105,pt4=1.03304,pt5=339.3728,pt6=34.07698,pt7=98.41807,pt8=3557.51375,pt9=13.36228,lc1=165.83Z\n",
    "Asensorvals pt0=482.60169,pt1=586.3529,pt2=-4.77855,pt3=-61.87105,pt4=1.03304,pt5=339.3728,pt6=34.07698,pt7=98.41807,pt8=3557.51375,pt9=13.36228,lc1=165.83Z\n",
    "```"
   ]
  },
  {
   "cell_type": "code",
   "execution_count": 42,
   "metadata": {},
   "outputs": [
    {
     "name": "stdout",
     "output_type": "stream",
     "text": [
      "Time taken to receive 100 messages is: 3.286018 seconds\n",
      "time per message:  0.032860179999999996\n",
      "messages per second:  30.431969636197977\n"
     ]
    }
   ],
   "source": [
    "print_results(NUMBER_OF_READINGS_TO_TAKE, time_taken_30)"
   ]
  },
  {
   "cell_type": "markdown",
   "metadata": {},
   "source": [
    "### 10ms delay\n",
    "\n",
    "compile this version using `./compile.sh serial_printing 10`"
   ]
  },
  {
   "cell_type": "code",
   "execution_count": null,
   "metadata": {},
   "outputs": [],
   "source": [
    "time_taken_10 = read_from_serial(NUMBER_OF_READINGS_TO_TAKE)"
   ]
  },
  {
   "cell_type": "markdown",
   "metadata": {},
   "source": [
    "Output:\n",
    "```\n",
    "6=34.07698,pt7=98.41807,pt8=3557.51375,pt9=13.36228,lc1=165.83Z\n",
    "Asensorvals pt0=482.60169,pt1=586.3529,pt2=-4.77855,pt3=-61.87105,pt4=1.03304,pt5=339.3728,pt6=34.07698,pt7=98.41807,pt8=3557.51375,pt9=13.36228,lc1=165.83Z\n",
    "Asensorvals pt0=482.60169,pt1=586.3529,pt2=-4.77855,pt3=-61.87105,pt4=1.03304,pt5=339.3728,pt6=34.07698,pt7=98.41807,pt8=3557.51375,pt9=13.36228,lc1=165.83Z\n",
    "Asensorvals pt0=482.60169,pt1=586.3529,pt2=-4.77855,pt3=-61.87105,pt4=1.03304,pt5=339.3728,pt6=34.07698,pt7=98.41807,pt8=3557.51375,pt9=13.36228,lc1=165.83Z\n",
    "```\n",
    "\n",
    "Notice how the first line starts to get truncated"
   ]
  },
  {
   "cell_type": "code",
   "execution_count": 49,
   "metadata": {},
   "outputs": [
    {
     "name": "stdout",
     "output_type": "stream",
     "text": [
      "Time taken to receive 100 messages is: 1.555002 seconds\n",
      "time per message:  0.01555002\n",
      "messages per second:  64.30859896000133\n"
     ]
    }
   ],
   "source": [
    "print_results(NUMBER_OF_READINGS_TO_TAKE, time_taken_10)"
   ]
  }
 ],
 "metadata": {
  "kernelspec": {
   "display_name": "rocket",
   "language": "python",
   "name": "python3"
  },
  "language_info": {
   "codemirror_mode": {
    "name": "ipython",
    "version": 3
   },
   "file_extension": ".py",
   "mimetype": "text/x-python",
   "name": "python",
   "nbconvert_exporter": "python",
   "pygments_lexer": "ipython3",
   "version": "3.10.16"
  }
 },
 "nbformat": 4,
 "nbformat_minor": 2
}
